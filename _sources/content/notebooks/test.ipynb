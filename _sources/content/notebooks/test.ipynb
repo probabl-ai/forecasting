{
 "cells": [
  {
   "cell_type": "markdown",
   "id": "d9afe08b",
   "metadata": {},
   "source": [
    "\n",
    "# Forecasting"
   ]
  },
  {
   "cell_type": "code",
   "execution_count": null,
   "id": "0040cb63",
   "metadata": {},
   "outputs": [],
   "source": [
    "import sklearn\n",
    "\n",
    "sklearn.__version__"
   ]
  },
  {
   "cell_type": "markdown",
   "id": "9dbc7e8d",
   "metadata": {},
   "source": [
    "Install the development version of skrub to be able to use the\n",
    "skrub expressions."
   ]
  },
  {
   "cell_type": "code",
   "execution_count": null,
   "id": "e3c5bab9",
   "metadata": {},
   "outputs": [],
   "source": [
    "%pip -q install https://pypi.anaconda.org/ogrisel/simple/skrub/0.6.dev0/skrub-0.6.dev0-py3-none-any.whl"
   ]
  },
  {
   "cell_type": "code",
   "execution_count": null,
   "id": "7c012c24",
   "metadata": {},
   "outputs": [],
   "source": [
    "import skrub\n",
    "\n",
    "skrub.__version__"
   ]
  }
 ],
 "metadata": {
  "jupytext": {
   "cell_metadata_filter": "-all",
   "main_language": "python",
   "notebook_metadata_filter": "-all"
  }
 },
 "nbformat": 4,
 "nbformat_minor": 5
}
