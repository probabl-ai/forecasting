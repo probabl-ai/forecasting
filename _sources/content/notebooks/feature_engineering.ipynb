{
 "cells": [
  {
   "cell_type": "markdown",
   "id": "d9d708dc",
   "metadata": {},
   "source": [
    "# Feature engineering for electricity load forecasting\n",
    "\n",
    "The purpose of this notebook is to demonstrate how to use `skrub` and\n",
    "`polars` to perform feature engineering for electricity load forecasting.\n",
    "\n",
    "We will build a set of features (and targets) from different data sources:\n",
    "\n",
    "- Historical weather data for 10 medium to large urban areas in France;\n",
    "- Holidays and standard calendar features for France;\n",
    "- Historical electricity load data for the whole of France.\n",
    "\n",
    "All these data sources cover a time range from March 23, 2021 to May 31,\n",
    "2025.\n",
    "\n",
    "Since our maximum forecasting horizon is 24 hours, we consider that the\n",
    "future weather data is known at a chosen prediction time. Similarly, the\n",
    "holidays and calendar features are known at prediction time for any point in\n",
    "the future.\n",
    "\n",
    "Therefore, exogenous features derived from the weather and calendar data can\n",
    "be used to engineer \"future covariates\". Since the load data is our\n",
    "prediction target, we will can also use it to engineer \"past covariates\" such\n",
    "as lagged features and rolling aggregations. The future values of the load\n",
    "data (with respect to the prediction time) are used as targets for the\n",
    "forecasting model.\n",
    "\n",
    "## Environment setup\n",
    "\n",
    "We need to install some extra dependencies for this notebook if needed (when\n",
    "running jupyterlite). We need the development version of skrub to be able to\n",
    "use the skrub expressions."
   ]
  },
  {
   "cell_type": "code",
   "execution_count": null,
   "id": "f7d4a2cf",
   "metadata": {},
   "outputs": [],
   "source": [
    "%pip install -q https://pypi.anaconda.org/ogrisel/simple/polars/1.24.0/polars-1.24.0-cp39-abi3-emscripten_3_1_58_wasm32.whl\n",
    "%pip install -q https://pypi.anaconda.org/ogrisel/simple/skrub/0.6.dev0/skrub-0.6.dev0-py3-none-any.whl\n",
    "%pip install -q altair holidays plotly nbformat"
   ]
  },
  {
   "cell_type": "markdown",
   "id": "2dd162c8",
   "metadata": {},
   "source": [
    "\n",
    "The following 3 imports are only needed to workaround some limitations when\n",
    "using polars in a pyodide/jupyterlite notebook.\n",
    "\n",
    "TODO: remove those workarounds once pyodide 0.28 is released with support for\n",
    "the latest polars version."
   ]
  },
  {
   "cell_type": "code",
   "execution_count": null,
   "id": "217476ab",
   "metadata": {
    "lines_to_next_cell": 2
   },
   "outputs": [],
   "source": [
    "import tzdata  # noqa: F401\n",
    "import pandas as pd\n",
    "from pyarrow.parquet import read_table\n",
    "\n",
    "import altair\n",
    "import polars as pl\n",
    "import skrub\n",
    "from pathlib import Path\n",
    "import holidays"
   ]
  },
  {
   "cell_type": "markdown",
   "id": "7524cb89",
   "metadata": {},
   "source": [
    "## Shared time range for all historical data sources\n",
    "\n",
    "Let's define a hourly time range from March 23, 2021 to May 31, 2025 that\n",
    "will be used to join the electricity load data and the weather data. The time\n",
    "range is in UTC timezone to avoid any ambiguity when joining with the weather\n",
    "data that is also in UTC.\n",
    "\n",
    "We wrap the resulting polars dataframe in a `skrub` expression to benefit\n",
    "from the built-in `skrub.TableReport` display in the notebook. Using the\n",
    "`skrub` expression system will also be useful for other reasons: all\n",
    "operations in this notebook chain operations chained together in a directed\n",
    "acyclic graph that is automatically tracked by `skrub`. This allows us to\n",
    "extract the resulting pipeline and apply it to new data later on, exactly\n",
    "like a trained scikit-learn pipeline. The main difference is that we do so\n",
    "incrementally and while eagerly executing and inspecting the results of each\n",
    "step as is customary when working with dataframe libraries such as polars and\n",
    "pandas in Jupyter notebooks."
   ]
  },
  {
   "cell_type": "code",
   "execution_count": null,
   "id": "8f7cfe8c",
   "metadata": {},
   "outputs": [],
   "source": [
    "historical_data_start_time = skrub.var(\n",
    "    \"historical_data_start_time\", pl.datetime(2021, 3, 23, hour=0, time_zone=\"UTC\")\n",
    ")\n",
    "historical_data_end_time = skrub.var(\n",
    "    \"historical_data_end_time\", pl.datetime(2025, 5, 31, hour=23, time_zone=\"UTC\")\n",
    ")"
   ]
  },
  {
   "cell_type": "code",
   "execution_count": null,
   "id": "7e877e95",
   "metadata": {},
   "outputs": [],
   "source": [
    "@skrub.deferred\n",
    "def build_historical_time_range(\n",
    "    historical_data_start_time,\n",
    "    historical_data_end_time,\n",
    "    time_interval=\"1h\",\n",
    "    time_zone=\"UTC\",\n",
    "):\n",
    "    \"\"\"Define an historical time range shared by all data sources.\"\"\"\n",
    "    return pl.DataFrame().with_columns(\n",
    "        pl.datetime_range(\n",
    "            start=historical_data_start_time,\n",
    "            end=historical_data_end_time,\n",
    "            time_zone=time_zone,\n",
    "            interval=time_interval,\n",
    "        ).alias(\"time\"),\n",
    "    )\n",
    "\n",
    "\n",
    "time = build_historical_time_range(historical_data_start_time, historical_data_end_time)\n",
    "time"
   ]
  },
  {
   "cell_type": "markdown",
   "id": "62ff1400",
   "metadata": {},
   "source": [
    "\n",
    "If you run the above locally with pydot and graphviz installed, you can\n",
    "visualize the expression graph of the `time` variable by expanding the \"Show\n",
    "graph\" button.\n",
    "\n",
    "Let's now load the data records for the time range defined above.\n",
    "\n",
    "To avoid network issues when running this notebook, the necessary data files\n",
    "have already been downloaded and saved in the `datasets` folder. See the\n",
    "README.md file for instructions to download the data manually if you want to\n",
    "re-run this notebook with more recent data."
   ]
  },
  {
   "cell_type": "code",
   "execution_count": null,
   "id": "6cb86ef4",
   "metadata": {},
   "outputs": [],
   "source": [
    "data_source_folder = skrub.var(\"data_source_folder\", \"../datasets\")\n",
    "\n",
    "for data_file in sorted(Path(data_source_folder.skb.eval()).iterdir()):\n",
    "    print(data_file)"
   ]
  },
  {
   "cell_type": "markdown",
   "id": "6731b805",
   "metadata": {},
   "source": [
    "\n",
    "We define a list of 10 medium to large urban areas to approximately cover\n",
    "most regions in France with a slight focus on most populated regions that are\n",
    "likely to drive electricity demand."
   ]
  },
  {
   "cell_type": "code",
   "execution_count": null,
   "id": "8f07ab17",
   "metadata": {
    "lines_to_next_cell": 2
   },
   "outputs": [],
   "source": [
    "city_names = skrub.var(\n",
    "    \"city_names\",\n",
    "    [\n",
    "        \"paris\",\n",
    "        \"lyon\",\n",
    "        \"marseille\",\n",
    "        \"toulouse\",\n",
    "        \"lille\",\n",
    "        \"limoges\",\n",
    "        \"nantes\",\n",
    "        \"strasbourg\",\n",
    "        \"brest\",\n",
    "        \"bayonne\",\n",
    "    ],\n",
    ")\n",
    "\n",
    "\n",
    "@skrub.deferred\n",
    "def load_weather_data(time, city_names, data_source_folder):\n",
    "    \"\"\"Load and horizontal stack historical weather forecast data for each city.\"\"\"\n",
    "    all_city_weather = time\n",
    "    for city_name in city_names:\n",
    "        all_city_weather = all_city_weather.join(\n",
    "            pl.from_arrow(\n",
    "                read_table(f\"{data_source_folder}/weather_{city_name}.parquet\")\n",
    "            )\n",
    "            .with_columns([pl.col(\"time\").dt.cast_time_unit(\"us\")])\n",
    "            .rename(lambda x: x if x == \"time\" else \"weather_\" + x + \"_\" + city_name),\n",
    "            on=\"time\",\n",
    "        )\n",
    "    return all_city_weather\n",
    "\n",
    "\n",
    "all_city_weather = load_weather_data(time, city_names, data_source_folder)\n",
    "all_city_weather"
   ]
  },
  {
   "cell_type": "markdown",
   "id": "ea31b1e9",
   "metadata": {
    "lines_to_next_cell": 2
   },
   "source": [
    "## Calendar and holidays features\n",
    "\n",
    "We leverage the `holidays` package to enrich the time range with some\n",
    "calendar features such as public holidays in France. We also add some\n",
    "features that are useful for time series forecasting such as the day of the\n",
    "week, the day of the year, and the hour of the day.\n",
    "\n",
    "Note that the `holidays` package requires us to extract the date for the\n",
    "French timezone.\n",
    "\n",
    "Similarly for the calendar features: all the time features are extracted from\n",
    "the time in the French timezone, since it is likely that electricity usage\n",
    "patterns are influenced by inhabitants' daily routines aligned with the local\n",
    "timezone."
   ]
  },
  {
   "cell_type": "code",
   "execution_count": null,
   "id": "00306b97",
   "metadata": {},
   "outputs": [],
   "source": [
    "@skrub.deferred\n",
    "def prepare_french_calendar_data(time):\n",
    "    fr_time = pl.col(\"time\").dt.convert_time_zone(\"Europe/Paris\")\n",
    "    fr_year_min = time.select(fr_time.dt.year().min()).item()\n",
    "    fr_year_max = time.select(fr_time.dt.year().max()).item()\n",
    "    holidays_fr = holidays.country_holidays(\n",
    "        \"FR\", years=range(fr_year_min, fr_year_max + 1)\n",
    "    )\n",
    "    return time.with_columns(\n",
    "        [\n",
    "            fr_time.dt.hour().alias(\"cal_hour_of_day\"),\n",
    "            fr_time.dt.weekday().alias(\"cal_day_of_week\"),\n",
    "            fr_time.dt.ordinal_day().alias(\"cal_day_of_year\"),\n",
    "            fr_time.dt.year().alias(\"cal_year\"),\n",
    "            fr_time.dt.date().is_in(holidays_fr.keys()).alias(\"cal_is_holiday\"),\n",
    "        ],\n",
    "    )\n",
    "\n",
    "\n",
    "calendar = prepare_french_calendar_data(time)\n",
    "calendar"
   ]
  },
  {
   "cell_type": "markdown",
   "id": "aa8130ea",
   "metadata": {
    "lines_to_next_cell": 0
   },
   "source": [
    "\n",
    "## Electricity load data\n",
    "\n",
    "Finally we load the electricity load data. This data will both be used as a\n",
    "target variable but also to craft some lagged and window-aggregated features."
   ]
  },
  {
   "cell_type": "code",
   "execution_count": null,
   "id": "96ffafda",
   "metadata": {},
   "outputs": [],
   "source": [
    "@skrub.deferred\n",
    "def load_electricity_load_data(time, data_source_folder):\n",
    "    \"\"\"Load and aggregate historical load data from the raw CSV files.\"\"\"\n",
    "    load_data_files = [\n",
    "        data_file\n",
    "        for data_file in sorted(Path(data_source_folder).iterdir())\n",
    "        if data_file.name.startswith(\"Total Load - Day Ahead\")\n",
    "        and data_file.name.endswith(\".csv\")\n",
    "    ]\n",
    "    return time.join(\n",
    "        (\n",
    "            pl.concat(\n",
    "                [\n",
    "                    pl.from_pandas(pd.read_csv(data_file, na_values=[\"N/A\", \"-\"])).drop(\n",
    "                        [\"Day-ahead Total Load Forecast [MW] - BZN|FR\"]\n",
    "                    )\n",
    "                    for data_file in load_data_files\n",
    "                ]\n",
    "            ).select(\n",
    "                [\n",
    "                    pl.col(\"Time (UTC)\")\n",
    "                    .str.split(by=\" - \")\n",
    "                    .list.first()\n",
    "                    .str.to_datetime(\"%d.%m.%Y %H:%M\", time_zone=\"UTC\")\n",
    "                    .alias(\"time\"),\n",
    "                    pl.col(\"Actual Total Load [MW] - BZN|FR\").alias(\"load_mw\"),\n",
    "                ]\n",
    "            )\n",
    "        ),\n",
    "        on=\"time\",\n",
    "    )"
   ]
  },
  {
   "cell_type": "markdown",
   "id": "dc164e86",
   "metadata": {},
   "source": [
    "\n",
    "Let's load the data and check if there are missing values since we will use\n",
    "this data as the target variable for our forecasting model."
   ]
  },
  {
   "cell_type": "code",
   "execution_count": null,
   "id": "9197360d",
   "metadata": {},
   "outputs": [],
   "source": [
    "electricity_raw = load_electricity_load_data(time, data_source_folder)\n",
    "electricity_raw.filter(pl.col(\"load_mw\").is_null())"
   ]
  },
  {
   "cell_type": "markdown",
   "id": "b8f4f41a",
   "metadata": {},
   "source": [
    "\n",
    "So apparently there a few missing measurements. Let's use linear\n",
    "interpolation to fill those missing values."
   ]
  },
  {
   "cell_type": "code",
   "execution_count": null,
   "id": "479333a0",
   "metadata": {},
   "outputs": [],
   "source": [
    "electricity_raw.filter(\n",
    "    (pl.col(\"time\") > pl.datetime(2021, 10, 30, hour=10, time_zone=\"UTC\"))\n",
    "    & (pl.col(\"time\") < pl.datetime(2021, 10, 31, hour=10, time_zone=\"UTC\"))\n",
    ").skb.eval().plot.line(x=\"time:T\", y=\"load_mw:Q\")"
   ]
  },
  {
   "cell_type": "code",
   "execution_count": null,
   "id": "c34ce0bb",
   "metadata": {},
   "outputs": [],
   "source": [
    "electricity = electricity_raw.with_columns([pl.col(\"load_mw\").interpolate()])\n",
    "electricity.filter(\n",
    "    (pl.col(\"time\") > pl.datetime(2021, 10, 30, hour=10, time_zone=\"UTC\"))\n",
    "    & (pl.col(\"time\") < pl.datetime(2021, 10, 31, hour=10, time_zone=\"UTC\"))\n",
    ").skb.eval().plot.line(x=\"time:T\", y=\"load_mw:Q\")"
   ]
  },
  {
   "cell_type": "markdown",
   "id": "4a2e170f",
   "metadata": {},
   "source": [
    "\n",
    "**Remark**: interpolating missing values in the target column that we will\n",
    "use to train and evaluate our models can bias the learning problem and make\n",
    "our cross-validation metrics misrepresent the performance of the deployed\n",
    "predictive system.\n",
    "\n",
    "A potentially better approach would be to keep the missing values in the\n",
    "dataset and use a sample_weight mask to keep a contiguous dataset while\n",
    "ignoring the time periods with missing values when training or evaluating the\n",
    "model."
   ]
  },
  {
   "cell_type": "markdown",
   "id": "d1600fea",
   "metadata": {
    "lines_to_next_cell": 2
   },
   "source": [
    "\n",
    "## Lagged features\n",
    "\n",
    "We can now create some lagged features from the electricity load data.\n",
    "\n",
    "We will create 3 hourly lagged features, 1 daily lagged feature, and 1 weekly\n",
    "lagged feature. We will also create a rolling median and inter-quartile\n",
    "feature over the last 24 hours and over the last 7 days."
   ]
  },
  {
   "cell_type": "code",
   "execution_count": null,
   "id": "6dae41ce",
   "metadata": {},
   "outputs": [],
   "source": [
    "def iqr(col, *, window_size: int):\n",
    "    \"\"\"Inter-quartile range (IQR) of a column.\"\"\"\n",
    "    return col.rolling_quantile(0.75, window_size=window_size) - col.rolling_quantile(\n",
    "        0.25, window_size=window_size\n",
    "    )\n",
    "\n",
    "\n",
    "electricity_lagged = electricity.with_columns(\n",
    "    [pl.col(\"load_mw\").shift(i).alias(f\"load_mw_lag_{i}h\") for i in range(1, 4)]\n",
    "    + [\n",
    "        pl.col(\"load_mw\").shift(24).alias(\"load_mw_lag_1d\"),\n",
    "        pl.col(\"load_mw\").shift(24 * 7).alias(\"load_mw_lag_1w\"),\n",
    "        pl.col(\"load_mw\")\n",
    "        .rolling_median(window_size=24)\n",
    "        .alias(\"load_mw_rolling_median_24h\"),\n",
    "        pl.col(\"load_mw\")\n",
    "        .rolling_median(window_size=24 * 7)\n",
    "        .alias(\"load_mw_rolling_median_7d\"),\n",
    "        iqr(pl.col(\"load_mw\"), window_size=24).alias(\"load_mw_iqr_24h\"),\n",
    "        iqr(pl.col(\"load_mw\"), window_size=24 * 7).alias(\"load_mw_iqr_7d\"),\n",
    "    ],\n",
    ")\n",
    "electricity_lagged"
   ]
  },
  {
   "cell_type": "code",
   "execution_count": null,
   "id": "63289241",
   "metadata": {},
   "outputs": [],
   "source": [
    "altair.Chart(electricity_lagged.tail(100).skb.preview()).transform_fold(\n",
    "    [\n",
    "        \"load_mw\",\n",
    "        \"load_mw_lag_1h\",\n",
    "        \"load_mw_lag_2h\",\n",
    "        \"load_mw_lag_3h\",\n",
    "        \"load_mw_lag_1d\",\n",
    "        \"load_mw_lag_1w\",\n",
    "        \"load_mw_rolling_median_24h\",\n",
    "        \"load_mw_rolling_median_7d\",\n",
    "        \"load_mw_rolling_iqr_24h\",\n",
    "        \"load_mw_rolling_iqr_7d\",\n",
    "    ],\n",
    "    as_=[\"key\", \"load_mw\"],\n",
    ").mark_line(tooltip=True).encode(x=\"time:T\", y=\"load_mw:Q\", color=\"key:N\").interactive()"
   ]
  },
  {
   "cell_type": "markdown",
   "id": "0ecdab48",
   "metadata": {},
   "source": [
    "\n",
    "## Important remark about lagged features engineering and system lag\n",
    "\n",
    "When working with historical data, we often have access to all the past\n",
    "measurements in the dataset. However, when we want to use the lagged features\n",
    "in a forecasting model, we need to be careful about the length of the\n",
    "**system lag**: the time between a timestamped measurement is made in the\n",
    "real world and the time the record is made available to the downstream\n",
    "application (in our case, a deployed predictive pipeline).\n",
    "\n",
    "System lag is rarely explicitly represented in the data sources even if such\n",
    "delay can be as large as several hours or even days and can sometimes be\n",
    "irregular. For instance, if there is a human intervention in the data\n",
    "recording process, holidays and weekends can punctually add significant\n",
    "delay.\n",
    "\n",
    "If the system lag is larger than the maximum feature engineering lag, the\n",
    "resulting features be filled with missing values once deployed. More\n",
    "importantly, if the system lag is not handled explicitly, those resulting\n",
    "missing values will only be present in the features computed for the\n",
    "deployed system but not present in the features computed to train and\n",
    "backtest the system before deployment.\n",
    "\n",
    "This structural discrepancy can severely degrade the performance of the\n",
    "deployed model compared to the performance estimated from backtesting on the\n",
    "historical data.\n",
    "\n",
    "We will set this problem aside for now but discuss it again in a later\n",
    "section of this tutorial."
   ]
  },
  {
   "cell_type": "markdown",
   "id": "6ba34093",
   "metadata": {},
   "source": [
    "## Investigating outliers in the lagged features\n",
    "\n",
    "Let's use the `skrub.TableReport` tool to look at the plots of the marginal\n",
    "distribution of the lagged features."
   ]
  },
  {
   "cell_type": "code",
   "execution_count": null,
   "id": "76fecdb9",
   "metadata": {},
   "outputs": [],
   "source": [
    "from skrub import TableReport\n",
    "\n",
    "TableReport(electricity_lagged.skb.eval())"
   ]
  },
  {
   "cell_type": "markdown",
   "id": "4540ac77",
   "metadata": {},
   "source": [
    "\n",
    "Let's extract the dates where the inter-quartile range of the load is\n",
    "greater than 15,000 MW."
   ]
  },
  {
   "cell_type": "code",
   "execution_count": null,
   "id": "489f4fbf",
   "metadata": {},
   "outputs": [],
   "source": [
    "electricity_lagged.filter(pl.col(\"load_mw_iqr_7d\") > 15_000)[\n",
    "    \"time\"\n",
    "].dt.date().unique().sort().to_list().skb.eval()"
   ]
  },
  {
   "cell_type": "markdown",
   "id": "9fbfb97e",
   "metadata": {},
   "source": [
    "\n",
    "We observe 3 date ranges with high inter-quartile range. Let's plot the\n",
    "electricity load and the lagged features for the first data range along with\n",
    "the weather data for Paris."
   ]
  },
  {
   "cell_type": "code",
   "execution_count": null,
   "id": "fd527c1d",
   "metadata": {},
   "outputs": [],
   "source": [
    "altair.Chart(\n",
    "    electricity_lagged.filter(\n",
    "        (pl.col(\"time\") > pl.datetime(2021, 12, 1, time_zone=\"UTC\"))\n",
    "        & (pl.col(\"time\") < pl.datetime(2021, 12, 31, time_zone=\"UTC\"))\n",
    "    ).skb.eval()\n",
    ").transform_fold(\n",
    "    [\n",
    "        \"load_mw\",\n",
    "        \"load_mw_iqr_7d\",\n",
    "    ],\n",
    ").mark_line(\n",
    "    tooltip=True\n",
    ").encode(\n",
    "    x=\"time:T\", y=\"value:Q\", color=\"key:N\"\n",
    ").interactive()"
   ]
  },
  {
   "cell_type": "code",
   "execution_count": null,
   "id": "a02635e2",
   "metadata": {},
   "outputs": [],
   "source": [
    "altair.Chart(\n",
    "    all_city_weather.filter(\n",
    "        (pl.col(\"time\") > pl.datetime(2021, 12, 1, time_zone=\"UTC\"))\n",
    "        & (pl.col(\"time\") < pl.datetime(2021, 12, 31, time_zone=\"UTC\"))\n",
    "    ).skb.eval()\n",
    ").transform_fold(\n",
    "    [f\"weather_temperature_2m_{city_name}\" for city_name in city_names.skb.eval()],\n",
    ").mark_line(\n",
    "    tooltip=True\n",
    ").encode(\n",
    "    x=\"time:T\", y=\"value:Q\", color=\"key:N\"\n",
    ").interactive()"
   ]
  },
  {
   "cell_type": "markdown",
   "id": "fc973ec5",
   "metadata": {},
   "source": [
    "\n",
    "Based on the plots above, we can see that the electricity load was high just\n",
    "before the Christmas holidays due to low temperatures. Then the load suddenly\n",
    "dropped because temperatures went higher right at the start of the\n",
    "end-of-year holidays.\n",
    "\n",
    "So those outliers do not seem to be caused to a data quality issue but rather\n",
    "due to a real change in the electricity load demand. We could conduct similar\n",
    "analysis for the other date ranges with high inter-quartile range but we will\n",
    "skip that for now.\n",
    "\n",
    "If we had observed significant data quality issues over extended periods of\n",
    "time could have been addressed by removing the corresponding rows from the\n",
    "dataset. However, this would make the lagged and windowing feature\n",
    "engineering challenging to reimplement correctly. A better approach would be\n",
    "to keep a contiguous dataset assign 0 weights to the affected rows when\n",
    "fitting or evaluating the trained models via the use of the `sample_weight`\n",
    "parameter."
   ]
  },
  {
   "cell_type": "markdown",
   "id": "b85413cf",
   "metadata": {},
   "source": [
    "## Final dataset\n",
    "\n",
    "We now assemble the dataset that will be used to train and evaluate the forecasting\n",
    "models via backtesting."
   ]
  },
  {
   "cell_type": "code",
   "execution_count": null,
   "id": "b8ef2787",
   "metadata": {},
   "outputs": [],
   "source": [
    "prediction_start_time = skrub.var(\n",
    "    \"prediction_start_time\", historical_data_start_time.skb.eval() + pl.duration(days=7)\n",
    ")\n",
    "prediction_end_time = skrub.var(\n",
    "    \"prediction_end_time\", historical_data_end_time.skb.eval() - pl.duration(hours=24)\n",
    ")\n",
    "\n",
    "\n",
    "@skrub.deferred\n",
    "def define_prediction_time_range(prediction_start_time, prediction_end_time):\n",
    "    return pl.DataFrame().with_columns(\n",
    "        pl.datetime_range(\n",
    "            start=prediction_start_time,\n",
    "            end=prediction_end_time,\n",
    "            time_zone=\"UTC\",\n",
    "            interval=\"1h\",\n",
    "        ).alias(\"prediction_time\"),\n",
    "    )\n",
    "\n",
    "\n",
    "prediction_time = define_prediction_time_range(\n",
    "    prediction_start_time, prediction_end_time\n",
    ").skb.subsample(n=1000, how=\"head\")\n",
    "prediction_time"
   ]
  },
  {
   "cell_type": "code",
   "execution_count": null,
   "id": "5c4d80f0",
   "metadata": {},
   "outputs": [],
   "source": [
    "@skrub.deferred\n",
    "def build_features(\n",
    "    prediction_time,\n",
    "    electricity_lagged,\n",
    "    all_city_weather,\n",
    "    calendar,\n",
    "    future_feature_horizons=[1, 24],\n",
    "):\n",
    "\n",
    "    return (\n",
    "        prediction_time.join(\n",
    "            electricity_lagged, left_on=\"prediction_time\", right_on=\"time\"\n",
    "        )\n",
    "        .join(\n",
    "            all_city_weather.select(\n",
    "                [pl.col(\"time\")]\n",
    "                + [\n",
    "                    pl.col(c).shift(-h).alias(c + f\"_future_{h}h\")\n",
    "                    for c in all_city_weather.columns\n",
    "                    if c != \"time\"\n",
    "                    for h in future_feature_horizons\n",
    "                ]\n",
    "            ),\n",
    "            left_on=\"prediction_time\",\n",
    "            right_on=\"time\",\n",
    "        )\n",
    "        .join(\n",
    "            calendar.select(\n",
    "                [pl.col(\"time\")]\n",
    "                + [\n",
    "                    pl.col(c).shift(-h).alias(c + f\"_future_{h}h\")\n",
    "                    for c in calendar.columns\n",
    "                    if c != \"time\"\n",
    "                    for h in future_feature_horizons\n",
    "                ]\n",
    "            ),\n",
    "            left_on=\"prediction_time\",\n",
    "            right_on=\"time\",\n",
    "        )\n",
    "    ).drop(\"prediction_time\")\n",
    "\n",
    "\n",
    "features = build_features(\n",
    "    prediction_time=prediction_time,\n",
    "    electricity_lagged=electricity_lagged,\n",
    "    all_city_weather=all_city_weather,\n",
    "    calendar=calendar,\n",
    ").skb.mark_as_X()\n",
    "\n",
    "features"
   ]
  },
  {
   "cell_type": "markdown",
   "id": "f2f3ce5e",
   "metadata": {},
   "source": [
    "\n",
    "Let's build training and evaluation targets for all possible horizons from 1\n",
    "to 24 hours."
   ]
  },
  {
   "cell_type": "code",
   "execution_count": null,
   "id": "e307597e",
   "metadata": {},
   "outputs": [],
   "source": [
    "horizons = range(1, 25)\n",
    "target_column_name_pattern = \"load_mw_horizon_{horizon}h\"\n",
    "\n",
    "\n",
    "@skrub.deferred\n",
    "def build_targets(prediction_time, electricity, horizons):\n",
    "    return prediction_time.join(\n",
    "        electricity.with_columns(\n",
    "            [\n",
    "                pl.col(\"load_mw\")\n",
    "                .shift(-h)\n",
    "                .alias(target_column_name_pattern.format(horizon=h))\n",
    "                for h in horizons\n",
    "            ]\n",
    "        ),\n",
    "        left_on=\"prediction_time\",\n",
    "        right_on=\"time\",\n",
    "    )\n",
    "\n",
    "\n",
    "targets = build_targets(prediction_time, electricity, horizons)\n",
    "targets"
   ]
  },
  {
   "cell_type": "markdown",
   "id": "bbabb01f",
   "metadata": {},
   "source": [
    "\n",
    "Let's serialize this data loading and feature engineering pipeline for\n",
    "reuse in later notebooks."
   ]
  },
  {
   "cell_type": "code",
   "execution_count": null,
   "id": "c35d08ae",
   "metadata": {},
   "outputs": [],
   "source": [
    "import cloudpickle\n",
    "\n",
    "with open(\"feature_engineering_pipeline.pkl\", \"wb\") as f:\n",
    "    cloudpickle.dump(\n",
    "        {\n",
    "            \"features\": features,\n",
    "            \"targets\": targets,\n",
    "            \"prediction_time\": prediction_time,\n",
    "            \"horizons\": horizons,\n",
    "            \"target_column_name_pattern\": target_column_name_pattern,\n",
    "        },\n",
    "        f,\n",
    "    )"
   ]
  }
 ],
 "metadata": {
  "jupytext": {
   "cell_metadata_filter": "-all",
   "main_language": "python",
   "notebook_metadata_filter": "-all"
  }
 },
 "nbformat": 4,
 "nbformat_minor": 5
}
