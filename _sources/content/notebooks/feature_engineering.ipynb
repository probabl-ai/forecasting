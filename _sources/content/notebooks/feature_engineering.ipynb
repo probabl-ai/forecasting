{
 "cells": [
  {
   "cell_type": "markdown",
   "id": "d3e66499",
   "metadata": {
    "lines_to_next_cell": 0
   },
   "source": [
    "# Feature engineering for electricity load forecasting\n",
    "\n",
    "The purpose of this notebook is to demonstrate how to use `skrub` and `polars`\n",
    "to perform feature engineering for electricity load forecasting.\n",
    "\n",
    "We will build a set of features from different sources:\n",
    "\n",
    "- Historical weather data for 10 medium to large urban areas in France;\n",
    "- Holidays and calendar features for France;\n",
    "- Historical electricity load data for the whole of France.\n",
    "\n",
    "All these data sources cover a time range from March 23, 2021 to May 31, 2025.\n",
    "\n",
    "Since our maximum forecasting horizon is 24 hours, we consider that the\n",
    "future weather data is known at a chosen prediction time. Similarly, the\n",
    "holidays and calendar features are known at prediction time for any point in\n",
    "the future.\n",
    "\n",
    "Therefore, features derived from the weather and calendar data can be used to\n",
    "engineer \"future covariates\". Since the load data is our prediction target,\n",
    "we will can also use it to engineer \"past covariates\" such as lagged features\n",
    "and rolling aggregations.\n",
    "\n",
    "## Environment setup\n",
    "\n",
    "We need to install some extra dependencies for this notebook if needed (when running\n",
    "jupyterlite). We need the development version of skrub to be able to use the\n",
    "skrub expressions."
   ]
  },
  {
   "cell_type": "code",
   "execution_count": null,
   "id": "fff7ab0f",
   "metadata": {
    "lines_to_next_cell": 0
   },
   "outputs": [],
   "source": [
    "%pip install -q https://pypi.anaconda.org/ogrisel/simple/polars/1.24.0/polars-1.24.0-cp39-abi3-emscripten_3_1_58_wasm32.whl\n",
    "%pip install -q altair holidays https://pypi.anaconda.org/ogrisel/simple/skrub/0.6.dev0/skrub-0.6.dev0-py3-none-any.whl"
   ]
  },
  {
   "cell_type": "code",
   "execution_count": null,
   "id": "d3ac20a9",
   "metadata": {
    "lines_to_next_cell": 2
   },
   "outputs": [],
   "source": [
    "# The following 3 imports are only needed to workaround some limitations\n",
    "# when using polars in a pyodide/jupyterlite notebook.\n",
    "import tzdata  # noqa: F401\n",
    "import pandas as pd\n",
    "from pyarrow.parquet import read_table\n",
    "\n",
    "import polars as pl\n",
    "import skrub\n",
    "from pathlib import Path\n",
    "import holidays\n",
    "import warnings\n",
    "\n",
    "# Ignore warnings from pkg_resources triggered by Python 3.13's multiprocessing.\n",
    "warnings.filterwarnings(\"ignore\", category=UserWarning, module=\"pkg_resources\")"
   ]
  },
  {
   "cell_type": "markdown",
   "id": "669995fd",
   "metadata": {},
   "source": [
    "## Time range\n",
    "\n",
    "Let's define a hourly time range from March 23, 2021 to May 31, 2025 that\n",
    "will be used to join the electricity load data and the weather data. The time\n",
    "range is in UTC timezone to avoid any ambiguity when joining with the weather\n",
    "data that is also in UTC.\n",
    "\n",
    "We wrap the polars dataframe in a skrub variable to benefit from the\n",
    "built-in TableReport display in the notebook. Using the skrub expression\n",
    "system will also be useful later."
   ]
  },
  {
   "cell_type": "code",
   "execution_count": null,
   "id": "35cb5c29",
   "metadata": {},
   "outputs": [],
   "source": [
    "time_range_start = pl.datetime(2021, 3, 23, hour=0, time_zone=\"UTC\")\n",
    "time_range_end = pl.datetime(2025, 5, 31, hour=23, time_zone=\"UTC\")\n",
    "time = skrub.var(\n",
    "    \"time\",\n",
    "    pl.DataFrame().with_columns(\n",
    "        pl.datetime_range(\n",
    "            start=time_range_start,\n",
    "            end=time_range_end,\n",
    "            time_zone=\"UTC\",\n",
    "            interval=\"1h\",\n",
    "        ).alias(\"time\"),\n",
    "    ),\n",
    ")\n",
    "time"
   ]
  },
  {
   "cell_type": "markdown",
   "id": "0796364c",
   "metadata": {},
   "source": [
    "\n",
    "To avoid network issues when running this notebook, the necessary data\n",
    "files have already been downloaded and saved in the `datasets` folder.\n",
    "See the README.md file for instructions to download the data manually\n",
    "if you want to re-run this notebook with more recent data."
   ]
  },
  {
   "cell_type": "code",
   "execution_count": null,
   "id": "60ec3bf4",
   "metadata": {},
   "outputs": [],
   "source": [
    "data_source_folder = Path(\"../datasets\")\n",
    "for data_file in sorted(data_source_folder.iterdir()):\n",
    "    print(data_file)"
   ]
  },
  {
   "cell_type": "markdown",
   "id": "82b69b92",
   "metadata": {},
   "source": [
    "\n",
    "List of 10 medium to large urban areas to approximately cover most regions in\n",
    "France with a slight focus on most populated regions that are likely to drive\n",
    "electricity demand."
   ]
  },
  {
   "cell_type": "code",
   "execution_count": null,
   "id": "3b2d0dba",
   "metadata": {},
   "outputs": [],
   "source": [
    "city_names = [\n",
    "    \"paris\",\n",
    "    \"lyon\",\n",
    "    \"marseille\",\n",
    "    \"toulouse\",\n",
    "    \"lille\",\n",
    "    \"limoges\",\n",
    "    \"nantes\",\n",
    "    \"strasbourg\",\n",
    "    \"brest\",\n",
    "    \"bayonne\",\n",
    "]"
   ]
  },
  {
   "cell_type": "code",
   "execution_count": null,
   "id": "8bca896a",
   "metadata": {},
   "outputs": [],
   "source": [
    "all_city_weather_raw = {}\n",
    "for city_name in city_names:\n",
    "    # all_city_weather_raw[city_name] = skrub.var(\n",
    "    # f\"{city_name}_weather_raw\",\n",
    "    all_city_weather_raw[city_name] = (\n",
    "        pl.from_arrow(read_table(f\"../datasets/weather_{city_name}.parquet\"))\n",
    "    ).with_columns(\n",
    "        [\n",
    "            pl.col(\"time\").dt.cast_time_unit(\n",
    "                \"us\"\n",
    "            ),  # Ensure time column has the same type\n",
    "        ]\n",
    "    )"
   ]
  },
  {
   "cell_type": "code",
   "execution_count": null,
   "id": "dfd06a9d",
   "metadata": {},
   "outputs": [],
   "source": [
    "all_city_weather_raw[\"brest\"]"
   ]
  },
  {
   "cell_type": "code",
   "execution_count": null,
   "id": "a21bf87e",
   "metadata": {
    "lines_to_next_cell": 2
   },
   "outputs": [],
   "source": [
    "all_city_weather_raw[\"brest\"].drop_nulls(subset=[\"temperature_2m\"])"
   ]
  },
  {
   "cell_type": "code",
   "execution_count": null,
   "id": "1657bab4",
   "metadata": {},
   "outputs": [],
   "source": [
    "all_city_weather = time.skb.eval()\n",
    "for city_name, city_weather_raw in all_city_weather_raw.items():\n",
    "    all_city_weather = all_city_weather.join(\n",
    "        city_weather_raw.rename(lambda x: x if x == \"time\" else x + \"_\" + city_name),\n",
    "        on=\"time\",\n",
    "        how=\"inner\",\n",
    "    )\n",
    "\n",
    "all_city_weather = skrub.var(\n",
    "    \"all_city_weather\",\n",
    "    all_city_weather,\n",
    ")\n",
    "all_city_weather"
   ]
  },
  {
   "cell_type": "markdown",
   "id": "12f8bb69",
   "metadata": {
    "lines_to_next_cell": 0
   },
   "source": [
    "## Calendar and holidays features\n",
    "\n",
    "We leverage the `holidays` package to enrich the time range with some\n",
    "calendar features such as public holidays in France. We also add some\n",
    "features that are useful for time series forecasting such as the day of the\n",
    "week, the day of the year, and the hour of the day.\n",
    "\n",
    "Note that the `holidays` package requires us to extract the date for the\n",
    "French timezone.\n",
    "\n",
    "Similarly for the calendar features: all the time features are extracted from\n",
    "the time in the French timezone."
   ]
  },
  {
   "cell_type": "code",
   "execution_count": null,
   "id": "a1022b8c",
   "metadata": {},
   "outputs": [],
   "source": [
    "holidays_fr = holidays.country_holidays(\"FR\", years=range(2019, 2026))\n",
    "\n",
    "fr_time = pl.col(\"time\").dt.convert_time_zone(\"Europe/Paris\")\n",
    "calendar = time.with_columns(\n",
    "    [\n",
    "        fr_time.dt.date().is_in(holidays_fr.keys()).alias(\"is_holiday_fr\"),\n",
    "        fr_time.dt.weekday().alias(\"day_of_week_fr\"),\n",
    "        fr_time.dt.ordinal_day().alias(\"day_of_year_fr\"),\n",
    "        fr_time.dt.hour().alias(\"hour_of_day_fr\"),\n",
    "    ],\n",
    ")\n",
    "calendar"
   ]
  },
  {
   "cell_type": "markdown",
   "id": "0c0b5a51",
   "metadata": {
    "lines_to_next_cell": 0
   },
   "source": [
    "\n",
    "## Electricity load data\n",
    "\n",
    "Finally we load the electricity load data. This data will both be used as a\n",
    "target variable but also to craft some lagged and window-aggregated features."
   ]
  },
  {
   "cell_type": "code",
   "execution_count": null,
   "id": "0329ed49",
   "metadata": {
    "lines_to_next_cell": 0
   },
   "outputs": [],
   "source": [
    "load_data_files = [\n",
    "    data_file\n",
    "    for data_file in sorted(data_source_folder.iterdir())\n",
    "    if data_file.name.startswith(\"Total Load - Day Ahead\")\n",
    "    and data_file.name.endswith(\".csv\")\n",
    "]"
   ]
  },
  {
   "cell_type": "code",
   "execution_count": null,
   "id": "c7ffd1eb",
   "metadata": {},
   "outputs": [],
   "source": [
    "electricity_raw = skrub.var(\n",
    "    \"electricity_raw\",\n",
    "    pl.concat(\n",
    "        [\n",
    "            pl.from_pandas(pd.read_csv(data_file, na_values=[\"N/A\", \"-\"])).drop(\n",
    "                [\"Day-ahead Total Load Forecast [MW] - BZN|FR\"]\n",
    "            )\n",
    "            for data_file in load_data_files\n",
    "        ],\n",
    "        how=\"vertical\",\n",
    "    ),\n",
    ")\n",
    "electricity_raw"
   ]
  },
  {
   "cell_type": "code",
   "execution_count": null,
   "id": "fe7175dd",
   "metadata": {},
   "outputs": [],
   "source": [
    "electricity = (\n",
    "    electricity_raw.with_columns(\n",
    "        [\n",
    "            pl.col(\"Time (UTC)\")\n",
    "            .str.split(by=\" - \")\n",
    "            .list.first()\n",
    "            .str.to_datetime(\"%d.%m.%Y %H:%M\", time_zone=\"UTC\")\n",
    "            .alias(\"time\"),\n",
    "        ]\n",
    "    )\n",
    "    .drop([\"Time (UTC)\"])\n",
    "    .rename({\"Actual Total Load [MW] - BZN|FR\": \"load_mw\"})\n",
    "    .filter(pl.col(\"time\").dt.minute().eq(0))\n",
    "    .filter(pl.col(\"time\") >= time_range_start)\n",
    "    .filter(pl.col(\"time\") <= time_range_end)\n",
    "    .select([\"time\", \"load_mw\"])\n",
    ")\n",
    "electricity"
   ]
  },
  {
   "cell_type": "code",
   "execution_count": null,
   "id": "d1ff785f",
   "metadata": {},
   "outputs": [],
   "source": [
    "electricity.filter(pl.col(\"load_mw\").is_null())"
   ]
  },
  {
   "cell_type": "code",
   "execution_count": null,
   "id": "ea369f70",
   "metadata": {},
   "outputs": [],
   "source": [
    "\n",
    "electricity.filter(\n",
    "    (pl.col(\"time\") > pl.datetime(2021, 10, 30, hour=10, time_zone=\"UTC\"))\n",
    "    & (pl.col(\"time\") < pl.datetime(2021, 10, 31, hour=10, time_zone=\"UTC\"))\n",
    ").skb.eval().plot.line(x=\"time:T\", y=\"load_mw:Q\")"
   ]
  },
  {
   "cell_type": "code",
   "execution_count": null,
   "id": "9e0738d9",
   "metadata": {},
   "outputs": [],
   "source": [
    "electricity = electricity.with_columns([pl.col(\"load_mw\").interpolate()])\n",
    "electricity.filter(\n",
    "    (pl.col(\"time\") > pl.datetime(2021, 10, 30, hour=10, time_zone=\"UTC\"))\n",
    "    & (pl.col(\"time\") < pl.datetime(2021, 10, 31, hour=10, time_zone=\"UTC\"))\n",
    ").skb.eval().plot.line(x=\"time:T\", y=\"load_mw:Q\")"
   ]
  },
  {
   "cell_type": "markdown",
   "id": "7e54d0c3",
   "metadata": {},
   "source": [
    "\n",
    "Check that the number of rows matches our expectations based on\n",
    "the number of hours that separate the first and the last dates. We can do\n",
    "that by joining with the time range dataframe and checking that the number of\n",
    "rows stays the same."
   ]
  },
  {
   "cell_type": "code",
   "execution_count": null,
   "id": "83a4880b",
   "metadata": {},
   "outputs": [],
   "source": [
    "assert (\n",
    "    time.join(electricity, on=\"time\", how=\"inner\").shape[0] == time.shape[0]\n",
    ").skb.eval()"
   ]
  },
  {
   "cell_type": "markdown",
   "id": "367eaaa3",
   "metadata": {
    "lines_to_next_cell": 2
   },
   "source": [
    "\n",
    "## Lagged features\n",
    "\n",
    "We can now create some lagged features from the electricity load data.\n",
    "\n",
    "We will create 3 hourly lagged features, 1 daily lagged feature, and 1 weekly\n",
    "lagged feature. We will also create a rolling median and inter-quartile\n",
    "feature over the last 24 hours and over the last 7 days."
   ]
  },
  {
   "cell_type": "code",
   "execution_count": null,
   "id": "73431227",
   "metadata": {},
   "outputs": [],
   "source": [
    "def iqr(col, *, window_size: int):\n",
    "    \"\"\"Inter-quartile range (IQR) of a column.\"\"\"\n",
    "    return col.rolling_quantile(0.75, window_size=window_size) - col.rolling_quantile(\n",
    "        0.25, window_size=window_size\n",
    "    )\n",
    "\n",
    "\n",
    "electricity_lagged = electricity.with_columns(\n",
    "    [pl.col(\"load_mw\").shift(i).alias(f\"load_mw_lag_{i}h\") for i in range(1, 4)]\n",
    "    + [\n",
    "        pl.col(\"load_mw\").shift(24).alias(\"load_mw_lag_1d\"),\n",
    "        pl.col(\"load_mw\").shift(24 * 7).alias(\"load_mw_lag_1w\"),\n",
    "        pl.col(\"load_mw\")\n",
    "        .rolling_median(window_size=24)\n",
    "        .alias(\"load_mw_rolling_median_24h\"),\n",
    "        pl.col(\"load_mw\")\n",
    "        .rolling_median(window_size=24 * 7)\n",
    "        .alias(\"load_mw_rolling_median_7d\"),\n",
    "        iqr(pl.col(\"load_mw\"), window_size=24).alias(\"load_mw_iqr_24h\"),\n",
    "        iqr(pl.col(\"load_mw\"), window_size=24 * 7).alias(\"load_mw_iqr_7d\"),\n",
    "    ],\n",
    ")\n",
    "electricity_lagged"
   ]
  },
  {
   "cell_type": "code",
   "execution_count": null,
   "id": "e3c33871",
   "metadata": {},
   "outputs": [],
   "source": [
    "import altair\n",
    "\n",
    "\n",
    "altair.Chart(electricity_lagged.tail(100).skb.eval()).transform_fold(\n",
    "    [\n",
    "        \"load_mw\",\n",
    "        \"load_mw_lag_1h\",\n",
    "        \"load_mw_lag_2h\",\n",
    "        \"load_mw_lag_3h\",\n",
    "        \"load_mw_lag_1d\",\n",
    "        \"load_mw_lag_1w\",\n",
    "        \"load_mw_rolling_median_24h\",\n",
    "        \"load_mw_rolling_median_7d\",\n",
    "        \"load_mw_iqr_24h\",\n",
    "        \"load_mw_iqr_7d\",\n",
    "    ],\n",
    "    as_=[\"key\", \"load_mw\"],\n",
    ").mark_line(tooltip=True).encode(x=\"time:T\", y=\"load_mw:Q\", color=\"key:N\").interactive()"
   ]
  },
  {
   "cell_type": "markdown",
   "id": "b336fc11",
   "metadata": {},
   "source": [
    "## Investigating outliers in the lagged features\n",
    "\n",
    "Let's use the `skrub.TableReport` tool to look at the plots of the marginal\n",
    "distribution of the lagged features."
   ]
  },
  {
   "cell_type": "code",
   "execution_count": null,
   "id": "7bdb592b",
   "metadata": {},
   "outputs": [],
   "source": [
    "from skrub import TableReport\n",
    "\n",
    "TableReport(electricity_lagged.skb.eval())"
   ]
  },
  {
   "cell_type": "markdown",
   "id": "21622e9e",
   "metadata": {},
   "source": [
    "\n",
    "Let's extract the dates where the inter-quartile range of the load is\n",
    "greater than 15,000 MW."
   ]
  },
  {
   "cell_type": "code",
   "execution_count": null,
   "id": "a1678358",
   "metadata": {},
   "outputs": [],
   "source": [
    "electricity_lagged.filter(pl.col(\"load_mw_iqr_7d\") > 15_000)[\n",
    "    \"time\"\n",
    "].dt.date().unique().sort().to_list().skb.eval()"
   ]
  },
  {
   "cell_type": "markdown",
   "id": "4b23dafc",
   "metadata": {},
   "source": [
    "\n",
    "We observe 3 date ranges with high inter-quartile range. Let's plot the\n",
    "electricity load and the lagged features for the first data range along with\n",
    "the weather data for Paris."
   ]
  },
  {
   "cell_type": "code",
   "execution_count": null,
   "id": "3f2d0f26",
   "metadata": {},
   "outputs": [],
   "source": [
    "altair.Chart(\n",
    "    electricity_lagged.filter(\n",
    "        (pl.col(\"time\") > pl.datetime(2021, 12, 1, time_zone=\"UTC\"))\n",
    "        & (pl.col(\"time\") < pl.datetime(2021, 12, 31, time_zone=\"UTC\"))\n",
    "    ).skb.eval()\n",
    ").transform_fold(\n",
    "    [\n",
    "        \"load_mw\",\n",
    "        \"load_mw_iqr_7d\",\n",
    "    ],\n",
    ").mark_line(\n",
    "    tooltip=True\n",
    ").encode(\n",
    "    x=\"time:T\", y=\"value:Q\", color=\"key:N\"\n",
    ").interactive()"
   ]
  },
  {
   "cell_type": "code",
   "execution_count": null,
   "id": "fb0a2a7e",
   "metadata": {},
   "outputs": [],
   "source": [
    "altair.Chart(\n",
    "    all_city_weather.filter(\n",
    "        (pl.col(\"time\") > pl.datetime(2021, 12, 1, time_zone=\"UTC\"))\n",
    "        & (pl.col(\"time\") < pl.datetime(2021, 12, 31, time_zone=\"UTC\"))\n",
    "    ).skb.eval()\n",
    ").transform_fold(\n",
    "    [f\"temperature_2m_{city_name}\" for city_name in city_names],\n",
    ").mark_line(\n",
    "    tooltip=True\n",
    ").encode(\n",
    "    x=\"time:T\", y=\"value:Q\", color=\"key:N\"\n",
    ").interactive()"
   ]
  },
  {
   "cell_type": "markdown",
   "id": "5352169e",
   "metadata": {},
   "source": [
    "\n",
    "Based on the plots above, we can see that the electricity load was high just\n",
    "before the Christmas holidays due to low temperatures. Then the load suddenly\n",
    "dropped because temperatures went higher right at the start of the\n",
    "end-of-year holidays.\n",
    "\n",
    "So those outliers do not seem to be caused to a data quality issue but rather\n",
    "due to a real change in the electricity load demand. We could conduct similar\n",
    "analysis for the other date ranges with high inter-quartile range but we will\n",
    "skip that for now.\n",
    "\n",
    "If we had observed significant data quality issues over extended periods of\n",
    "time could have been addressed by removing the corresponding rows from the\n",
    "dataset. However, this would make the lagged and windowing feature\n",
    "engineering challenging to reimplement correctly. A better approach would be\n",
    "to keep a contiguous dataset assign 0 weights to the affected rows when\n",
    "fitting or evaluating the trained models via the use of the `sample_weight`\n",
    "parameter."
   ]
  },
  {
   "cell_type": "markdown",
   "id": "3707caf7",
   "metadata": {},
   "source": [
    "## Final dataset\n",
    "\n",
    "We now assemble the dataset that will be used to train and evaluate the forecasting\n",
    "models via backtesting."
   ]
  },
  {
   "cell_type": "code",
   "execution_count": null,
   "id": "b973e91f",
   "metadata": {},
   "outputs": [],
   "source": [
    "prediction_time = time = skrub.var(\n",
    "    \"prediction_time\",\n",
    "    pl.DataFrame().with_columns(\n",
    "        pl.datetime_range(\n",
    "            start=time_range_start + pl.duration(days=7),\n",
    "            end=time_range_end - pl.duration(hours=24),\n",
    "            time_zone=\"UTC\",\n",
    "            interval=\"1h\",\n",
    "        ).alias(\"prediction_time\"),\n",
    "    ),\n",
    ")\n",
    "prediction_time"
   ]
  },
  {
   "cell_type": "code",
   "execution_count": null,
   "id": "86203a46",
   "metadata": {},
   "outputs": [],
   "source": [
    "features = (\n",
    "    (\n",
    "        prediction_time.join(\n",
    "            electricity_lagged, left_on=\"prediction_time\", right_on=\"time\"\n",
    "        )\n",
    "        .join(all_city_weather, left_on=\"prediction_time\", right_on=\"time\")\n",
    "        .join(calendar, left_on=\"prediction_time\", right_on=\"time\")\n",
    "    )\n",
    "    .drop(\"prediction_time\")\n",
    "    .skb.mark_as_X()\n",
    ")\n",
    "features"
   ]
  },
  {
   "cell_type": "code",
   "execution_count": null,
   "id": "88620d84",
   "metadata": {},
   "outputs": [],
   "source": [
    "horizons = range(1, 25)  # Forecasting horizons from 1 to 24 hours\n",
    "target_column_name_pattern = \"load_mw_horizon_{horizon}h\"\n",
    "\n",
    "targets = prediction_time.join(\n",
    "    electricity.with_columns(\n",
    "        [\n",
    "            pl.col(\"load_mw\")\n",
    "            .shift(-h)\n",
    "            .alias(target_column_name_pattern.format(horizon=h))\n",
    "            for h in horizons\n",
    "        ]\n",
    "    ),\n",
    "    left_on=\"prediction_time\",\n",
    "    right_on=\"time\",\n",
    ")"
   ]
  },
  {
   "cell_type": "code",
   "execution_count": null,
   "id": "5a1aa225",
   "metadata": {},
   "outputs": [],
   "source": [
    "horizon_of_interest = 2\n",
    "target_column_name = target_column_name_pattern.format(horizon=horizon_of_interest)\n",
    "predicted_target_column_name = \"predicted_\" + target_column_name\n",
    "target = targets[target_column_name].skb.mark_as_y()"
   ]
  },
  {
   "cell_type": "code",
   "execution_count": null,
   "id": "51ae7562",
   "metadata": {},
   "outputs": [],
   "source": [
    "from sklearn.ensemble import HistGradientBoostingRegressor\n",
    "\n",
    "\n",
    "predictions = features.skb.apply(\n",
    "    HistGradientBoostingRegressor(\n",
    "        random_state=0,\n",
    "        learning_rate=skrub.choose_float(\n",
    "            0.01, 0.9, default=0.1, log=True, name=\"learning_rate\"\n",
    "        ),\n",
    "        max_leaf_nodes=skrub.choose_int(\n",
    "            3, 300, default=30, log=True, name=\"max_leaf_nodes\"\n",
    "        ),\n",
    "    ),\n",
    "    y=target,\n",
    ")\n",
    "predictions"
   ]
  },
  {
   "cell_type": "code",
   "execution_count": null,
   "id": "174afe33",
   "metadata": {
    "lines_to_next_cell": 2
   },
   "outputs": [],
   "source": [
    "altair.Chart(\n",
    "    pl.concat(\n",
    "        [\n",
    "            targets.skb.eval(),\n",
    "            predictions.rename(\n",
    "                {target_column_name: predicted_target_column_name}\n",
    "            ).skb.eval(),\n",
    "        ],\n",
    "        how=\"horizontal\",\n",
    "    ).tail(24 * 7)\n",
    ").transform_fold(\n",
    "    [target_column_name, predicted_target_column_name],\n",
    ").mark_line(\n",
    "    tooltip=True\n",
    ").encode(\n",
    "    x=\"prediction_time:T\", y=\"value:Q\", color=\"key:N\"\n",
    ").interactive()"
   ]
  },
  {
   "cell_type": "code",
   "execution_count": null,
   "id": "e518386e",
   "metadata": {},
   "outputs": [],
   "source": [
    "from sklearn.model_selection import TimeSeriesSplit\n",
    "from sklearn.metrics import make_scorer, mean_absolute_percentage_error, get_scorer\n",
    "\n",
    "mape_scorer = make_scorer(mean_absolute_percentage_error)\n",
    "\n",
    "ts_cv_5 = TimeSeriesSplit(n_splits=5, max_train_size=10_000, gap=24)\n",
    "\n",
    "predictions.skb.cross_validate(\n",
    "    cv=ts_cv_5,\n",
    "    scoring={\n",
    "        \"r2\": get_scorer(\"r2\"),\n",
    "        \"mape\": mape_scorer,\n",
    "    },\n",
    "    return_train_score=True,\n",
    "    verbose=1,\n",
    "    n_jobs=-1,\n",
    ").round(3)"
   ]
  },
  {
   "cell_type": "code",
   "execution_count": null,
   "id": "222e1d67",
   "metadata": {},
   "outputs": [],
   "source": [
    "ts_cv_3 = TimeSeriesSplit(n_splits=3, max_train_size=10_000, gap=24)\n",
    "randomized_search = predictions.skb.get_randomized_search(\n",
    "    cv=ts_cv_3,\n",
    "    scoring=\"r2\",\n",
    "    n_iter=30,\n",
    "    fitted=True,\n",
    "    verbose=1,\n",
    "    n_jobs=-1,\n",
    ")\n",
    "randomized_search.results_"
   ]
  },
  {
   "cell_type": "code",
   "execution_count": null,
   "id": "aac649e2",
   "metadata": {
    "lines_to_next_cell": 2
   },
   "outputs": [],
   "source": [
    "randomized_search.plot_results()"
   ]
  },
  {
   "cell_type": "code",
   "execution_count": null,
   "id": "2984ab46",
   "metadata": {},
   "outputs": [],
   "source": [
    "# nested_cv_results = skrub.cross_validate(\n",
    "#     environment=predictions.skb.get_data(),\n",
    "#     pipeline=randomized_search,\n",
    "#     cv=ts_cv_5,\n",
    "#     scoring={\n",
    "#         \"r2\": get_scorer(\"r2\"),\n",
    "#         \"mape\": mape_scorer,\n",
    "#     },\n",
    "#     n_jobs=-1,\n",
    "#     return_pipeline=True,\n",
    "# ).round(3)\n",
    "# nested_cv_results"
   ]
  },
  {
   "cell_type": "code",
   "execution_count": null,
   "id": "b6c4e34d",
   "metadata": {},
   "outputs": [],
   "source": [
    "# for outer_cv_idx in range(len(nested_cv_results)):\n",
    "#     print(\n",
    "#         nested_cv_results.loc[outer_cv_idx, \"pipeline\"]\n",
    "#         .results_.loc[0]\n",
    "#         .round(3)\n",
    "#         .to_dict()\n",
    "#     )"
   ]
  },
  {
   "cell_type": "code",
   "execution_count": null,
   "id": "6ff4bd6d",
   "metadata": {
    "lines_to_next_cell": 2
   },
   "outputs": [],
   "source": [
    "# from joblib import Parallel, delayed\n",
    "\n",
    "# cv_predictions = []\n",
    "# for ts_cv_train_idx, ts_cv_test_idx in ts_cv_5.split(prediction_time.skb.eval()):\n",
    "#     features[ts_cv_train_idx].fit"
   ]
  },
  {
   "cell_type": "code",
   "execution_count": null,
   "id": "c9e7af87",
   "metadata": {},
   "outputs": [],
   "source": [
    "predictions = features.skb.apply(\n",
    "    skrub.SelectCols(\n",
    "        cols=skrub.choose_from(\n",
    "            [\n",
    "                skrub.selectors.all(),\n",
    "                skrub.selectors.filter_names(\n",
    "                    lambda name: name.startswith(\"load_mw_\"),\n",
    "                ),\n",
    "                skrub.selectors.filter_names(\n",
    "                    lambda name: name.startswith(\"load_mw_\")\n",
    "                    or name.startswith(\"temperature_\"),\n",
    "                ),\n",
    "                skrub.selectors.filter_names(\n",
    "                    lambda name: name.startswith(\"load_mw_\")\n",
    "                    or name.startswith(\"precipitation_\"),\n",
    "                ),\n",
    "                skrub.selectors.filter_names(\n",
    "                    lambda name: name.startswith(\"load_mw_\")\n",
    "                    or name.startswith(\"wind_speed_\"),\n",
    "                ),\n",
    "                skrub.selectors.filter_names(\n",
    "                    lambda name: name.startswith(\"load_mw_\")\n",
    "                    or name.startswith(\"cloud_cover_\"),\n",
    "                ),\n",
    "                # calendar features\n",
    "                skrub.selectors.filter_names(\n",
    "                    lambda name: name.startswith(\"load_mw_\") or name.endswith(\"_fr\"),\n",
    "                ),\n",
    "            ],\n",
    "            name=\"feature_subset\",\n",
    "        )\n",
    "    )\n",
    ").skb.apply(\n",
    "    HistGradientBoostingRegressor(\n",
    "        random_state=0,\n",
    "        learning_rate=skrub.choose_float(\n",
    "            0.01, 0.9, default=0.1, log=True, name=\"learning_rate\"\n",
    "        ),\n",
    "    ),\n",
    "    y=target,\n",
    ")"
   ]
  },
  {
   "cell_type": "code",
   "execution_count": null,
   "id": "dae788b3",
   "metadata": {},
   "outputs": [],
   "source": [
    "randomized_search = predictions.skb.get_randomized_search(\n",
    "    cv=ts_cv_3,\n",
    "    scoring=\"r2\",\n",
    "    n_iter=30,\n",
    "    fitted=True,\n",
    "    verbose=1,\n",
    "    n_jobs=-1,\n",
    ")\n",
    "randomized_search.results_"
   ]
  },
  {
   "cell_type": "code",
   "execution_count": null,
   "id": "58fe4a37",
   "metadata": {
    "lines_to_next_cell": 0
   },
   "outputs": [],
   "source": []
  },
  {
   "cell_type": "code",
   "execution_count": null,
   "id": "9098d337",
   "metadata": {},
   "outputs": [],
   "source": [
    "# nested_cv_results = skrub.cross_validate(\n",
    "#     environment=predictions.skb.get_data(),\n",
    "#     pipeline=randomized_search,\n",
    "#     cv=ts_cv_5,\n",
    "#     scoring={\n",
    "#         \"r2\": get_scorer(\"r2\"),\n",
    "#         \"mape\": mape_scorer,\n",
    "#     },\n",
    "#     n_jobs=-1,\n",
    "#     return_pipeline=True,\n",
    "# ).round(3)\n",
    "# nested_cv_results"
   ]
  },
  {
   "cell_type": "code",
   "execution_count": null,
   "id": "c1838790",
   "metadata": {},
   "outputs": [],
   "source": [
    "from sklearn.multioutput import MultiOutputRegressor\n",
    "\n",
    "model = MultiOutputRegressor(\n",
    "    estimator=HistGradientBoostingRegressor(\n",
    "        random_state=0,\n",
    "        learning_rate=skrub.choose_float(\n",
    "            0.01, 0.9, default=0.1, log=True, name=\"learning_rate\"\n",
    "        ),\n",
    "    ),\n",
    ")"
   ]
  },
  {
   "cell_type": "code",
   "execution_count": null,
   "id": "2b61c346",
   "metadata": {},
   "outputs": [],
   "source": [
    "predictions = features.skb.apply(\n",
    "    model, y=targets.skb.drop(cols=[\"prediction_time\", \"load_mw\"]).skb.mark_as_y()\n",
    ").skb.set_name(\"model\")"
   ]
  },
  {
   "cell_type": "code",
   "execution_count": null,
   "id": "694c9c52",
   "metadata": {},
   "outputs": [],
   "source": [
    "from sklearn.metrics import r2_score\n",
    "\n",
    "\n",
    "def multioutput_scorer(regressor, X, y, score_func, score_name):\n",
    "    y_pred = regressor.predict(X)\n",
    "    return {\n",
    "        f\"{score_name}_horizon_{h}h\": score\n",
    "        for h, score in enumerate(\n",
    "            score_func(y, y_pred, multioutput=\"raw_values\"), start=1\n",
    "        )\n",
    "    }\n",
    "\n",
    "\n",
    "def scoring(regressor, X, y):\n",
    "    return {\n",
    "        **multioutput_scorer(regressor, X, y, mean_absolute_percentage_error, \"mape\"),\n",
    "        **multioutput_scorer(regressor, X, y, r2_score, \"r2\"),\n",
    "    }\n",
    "\n",
    "\n",
    "predictions.skb.cross_validate(\n",
    "    cv=ts_cv_5,\n",
    "    scoring=scoring,\n",
    "    return_train_score=True,\n",
    "    verbose=1,\n",
    "    n_jobs=-1,\n",
    ").round(3)"
   ]
  },
  {
   "cell_type": "code",
   "execution_count": null,
   "id": "f1598168",
   "metadata": {},
   "outputs": [],
   "source": [
    "learner = predictions.skb.get_pipeline(fitted=True)"
   ]
  },
  {
   "cell_type": "code",
   "execution_count": null,
   "id": "39619826",
   "metadata": {},
   "outputs": [],
   "source": [
    "sklearn_learner = learner.find_fitted_estimator(\"model\")\n",
    "sklearn_learner.estimators_"
   ]
  },
  {
   "cell_type": "code",
   "execution_count": null,
   "id": "bf9c464a",
   "metadata": {},
   "outputs": [],
   "source": [
    "target_column_names = [target_column_name_pattern.format(horizon=h) for h in horizons]\n",
    "predicted_target_column_names = [\n",
    "    f\"predicted_{target_column_name}\" for target_column_name in target_column_names\n",
    "]"
   ]
  },
  {
   "cell_type": "code",
   "execution_count": null,
   "id": "18f69ff6",
   "metadata": {},
   "outputs": [],
   "source": [
    "output = pl.concat(\n",
    "    [\n",
    "        targets.skb.select(cols=[\"prediction_time\", \"load_mw\"]).skb.eval(),\n",
    "        predictions.rename(\n",
    "            {k: v for k, v in zip(target_column_names, predicted_target_column_names)}\n",
    "        ).skb.eval(),\n",
    "    ],\n",
    "    how=\"horizontal\",\n",
    ").tail(24 * 14)"
   ]
  },
  {
   "cell_type": "code",
   "execution_count": null,
   "id": "7b771234",
   "metadata": {},
   "outputs": [],
   "source": [
    "import datetime\n",
    "\n",
    "\n",
    "def plot_horizon(output, prediction_time, past_true_values=5):\n",
    "    # Find the row that contains the forecasted values\n",
    "    row = output.filter(pl.col(\"prediction_time\") == prediction_time).rows()[0]\n",
    "    # Build the forecast dataframe by concatenating the different horizons\n",
    "    forecast = pl.DataFrame(\n",
    "        {\n",
    "            \"forecast_time\": row[0] + datetime.timedelta(hours=h),\n",
    "            \"forecast_value\": predicted_value,\n",
    "        }\n",
    "        for h, predicted_value in enumerate(row[2:], start=1)\n",
    "    )\n",
    "    # Get the past true values and also the future true values of to the last horizon\n",
    "    true_values = output.filter(\n",
    "        (\n",
    "            pl.col(\"prediction_time\")\n",
    "            >= prediction_time - datetime.timedelta(hours=past_true_values)\n",
    "        )\n",
    "        & (\n",
    "            pl.col(\"prediction_time\")\n",
    "            <= prediction_time + datetime.timedelta(hours=len(row) - 2)\n",
    "        )\n",
    "    )\n",
    "    # plot the true and forecasted values\n",
    "    true_values_chart = (\n",
    "        altair.Chart(true_values)\n",
    "        .transform_fold([\"load_mw\"])\n",
    "        .mark_line(tooltip=True)\n",
    "        .encode(x=\"prediction_time:T\", y=\"load_mw:Q\", color=\"key:N\")\n",
    "    )\n",
    "    forecast_chart = (\n",
    "        altair.Chart(forecast)\n",
    "        .transform_fold([\"forecast_value\"])\n",
    "        .mark_line(tooltip=True)\n",
    "        .encode(x=\"forecast_time:T\", y=\"forecast_value:Q\", color=\"key:N\")\n",
    "    )\n",
    "    return (true_values_chart + forecast_chart).interactive()"
   ]
  },
  {
   "cell_type": "code",
   "execution_count": null,
   "id": "4972f3b3",
   "metadata": {},
   "outputs": [],
   "source": [
    "time_to_plot = datetime.datetime(2025, 5, 25, 0, 0, tzinfo=datetime.timezone.utc)\n",
    "plot_horizon(output, time_to_plot, past_true_values=24 * 5)"
   ]
  },
  {
   "cell_type": "code",
   "execution_count": null,
   "id": "7879b697",
   "metadata": {},
   "outputs": [],
   "source": []
  }
 ],
 "metadata": {
  "jupytext": {
   "cell_metadata_filter": "-all",
   "main_language": "python",
   "notebook_metadata_filter": "-all"
  }
 },
 "nbformat": 4,
 "nbformat_minor": 5
}
