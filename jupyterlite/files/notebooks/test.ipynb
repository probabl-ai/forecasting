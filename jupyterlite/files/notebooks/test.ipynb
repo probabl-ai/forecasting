{
 "cells": [
  {
   "cell_type": "markdown",
   "id": "0b1031ec",
   "metadata": {},
   "source": [
    "\n",
    "# Forecasting"
   ]
  },
  {
   "cell_type": "code",
   "execution_count": null,
   "id": "6a61811d",
   "metadata": {},
   "outputs": [],
   "source": [
    "import sklearn\n",
    "\n",
    "sklearn.__version__"
   ]
  }
 ],
 "metadata": {
  "jupytext": {
   "cell_metadata_filter": "-all",
   "main_language": "python",
   "notebook_metadata_filter": "-all"
  }
 },
 "nbformat": 4,
 "nbformat_minor": 5
}
