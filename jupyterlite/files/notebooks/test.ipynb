{
 "cells": [
  {
   "cell_type": "markdown",
   "id": "f2270e84",
   "metadata": {},
   "source": [
    "\n",
    "# Forecasting"
   ]
  },
  {
   "cell_type": "code",
   "execution_count": null,
   "id": "0c7dd7ca",
   "metadata": {},
   "outputs": [],
   "source": [
    "import sklearn\n",
    "\n",
    "sklearn.__version__"
   ]
  },
  {
   "cell_type": "markdown",
   "id": "2d54d42a",
   "metadata": {},
   "source": [
    "Install the development version of skrub to be able to use the\n",
    "skrub expressions."
   ]
  },
  {
   "cell_type": "code",
   "execution_count": null,
   "id": "7492efc7",
   "metadata": {},
   "outputs": [],
   "source": [
    "%pip -q install https://pypi.anaconda.org/ogrisel/simple/skrub/0.6.dev0/skrub-0.6.dev0-py3-none-any.whl"
   ]
  },
  {
   "cell_type": "code",
   "execution_count": null,
   "id": "ce5d5af6",
   "metadata": {},
   "outputs": [],
   "source": [
    "import skrub\n",
    "\n",
    "skrub.__version__"
   ]
  }
 ],
 "metadata": {
  "jupytext": {
   "cell_metadata_filter": "-all",
   "main_language": "python",
   "notebook_metadata_filter": "-all"
  }
 },
 "nbformat": 4,
 "nbformat_minor": 5
}
