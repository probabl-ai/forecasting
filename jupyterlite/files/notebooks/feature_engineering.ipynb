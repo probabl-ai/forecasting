{
 "cells": [
  {
   "cell_type": "markdown",
   "id": "ee1e0ff7",
   "metadata": {
    "lines_to_next_cell": 0
   },
   "source": [
    "\n",
    "Install extra dependencies for this notebook if needed (when running\n",
    "jupyterlite). We need the development version of skrub to be able to use the\n",
    "skrub expressions."
   ]
  },
  {
   "cell_type": "code",
   "execution_count": null,
   "id": "a3f78496",
   "metadata": {},
   "outputs": [],
   "source": [
    "%pip install -q holidays https://pypi.anaconda.org/ogrisel/simple/skrub/0.6.dev0/skrub-0.6.dev0-py3-none-any.whl"
   ]
  },
  {
   "cell_type": "code",
   "execution_count": null,
   "id": "c8bb6230",
   "metadata": {},
   "outputs": [],
   "source": [
    "import polars as pl\n",
    "import skrub\n",
    "from pathlib import Path"
   ]
  },
  {
   "cell_type": "code",
   "execution_count": null,
   "id": "dbb6ee43",
   "metadata": {},
   "outputs": [],
   "source": [
    "time = skrub.var(\n",
    "    \"time\",\n",
    "    pl.DataFrame().with_columns(\n",
    "        pl.datetime_range(\n",
    "            pl.datetime(2021, 3, 23, hour=0),\n",
    "            pl.datetime(2025, 5, 31, hour=23),\n",
    "            time_zone=\"UTC\",\n",
    "            interval=\"1h\",\n",
    "        ).alias(\"time\"),\n",
    "    ),\n",
    ")\n",
    "time"
   ]
  },
  {
   "cell_type": "markdown",
   "id": "562cff6e",
   "metadata": {},
   "source": [
    "TODO: add instructions to download data manually"
   ]
  },
  {
   "cell_type": "code",
   "execution_count": null,
   "id": "c035b489",
   "metadata": {},
   "outputs": [],
   "source": [
    "data_source_folder = Path(\"../datasets\")\n",
    "for data_file in sorted(data_source_folder.iterdir()):\n",
    "    print(data_file)"
   ]
  },
  {
   "cell_type": "code",
   "execution_count": null,
   "id": "04725c50",
   "metadata": {},
   "outputs": [],
   "source": [
    "electricity_raw = skrub.var(\n",
    "    \"electricity_raw\",\n",
    "    pl.concat(\n",
    "        [\n",
    "            pl.read_csv(data_file, null_values=[\"N/A\"])\n",
    "            for data_file in sorted(data_source_folder.iterdir())\n",
    "            if data_file.name.startswith(\"Total Load - Day Ahead\")\n",
    "            and data_file.name.endswith(\".csv\")\n",
    "        ],\n",
    "        how=\"vertical\",\n",
    "    ),\n",
    ")\n",
    "electricity_raw"
   ]
  },
  {
   "cell_type": "code",
   "execution_count": null,
   "id": "8629e0c7",
   "metadata": {},
   "outputs": [],
   "source": [
    "electricity = (\n",
    "    electricity_raw.with_columns(\n",
    "        [\n",
    "            pl.col(\"Time (UTC)\")\n",
    "            .str.split(by=\" - \")\n",
    "            .list.first()\n",
    "            .str.to_datetime(\"%d.%m.%Y %H:%M\", time_zone=\"UTC\")\n",
    "            .alias(\"time\"),\n",
    "        ]\n",
    "    )\n",
    "    .drop([\"Time (UTC)\", \"Day-ahead Total Load Forecast [MW] - BZN|FR\"])\n",
    "    .rename({\"Actual Total Load [MW] - BZN|FR\": \"load_mw\"})\n",
    "    .select([\"time\", \"load_mw\"])\n",
    ")\n",
    "electricity"
   ]
  },
  {
   "cell_type": "markdown",
   "id": "0b14524a",
   "metadata": {},
   "source": [
    "Check that the number of rows matches our expectations based on the number of hours that separate the first and the last dates:"
   ]
  },
  {
   "cell_type": "code",
   "execution_count": null,
   "id": "6f03f062",
   "metadata": {},
   "outputs": [],
   "source": [
    "time.join(electricity, on=\"time\", how=\"left\")"
   ]
  },
  {
   "cell_type": "markdown",
   "id": "211d8d08",
   "metadata": {},
   "source": [
    "\n",
    "List of 10 medium to large urban areas to approximately cover most regions in\n",
    "France with a slight focus on most populated regions that are likely to drive\n",
    "electricity demand."
   ]
  },
  {
   "cell_type": "code",
   "execution_count": null,
   "id": "155d9a50",
   "metadata": {},
   "outputs": [],
   "source": [
    "city_names = [\n",
    "    \"paris\",\n",
    "    \"lyon\",\n",
    "    \"marseille\",\n",
    "    \"toulouse\",\n",
    "    \"lille\",\n",
    "    \"limoges\",\n",
    "    \"nantes\",\n",
    "    \"strasbourg\",\n",
    "    \"brest\",\n",
    "    \"bayonne\",\n",
    "]"
   ]
  },
  {
   "cell_type": "code",
   "execution_count": null,
   "id": "6a049947",
   "metadata": {},
   "outputs": [],
   "source": [
    "all_city_weather_raw = {}\n",
    "for city_name in city_names:\n",
    "    all_city_weather_raw[city_name] = skrub.var(\n",
    "        f\"{city_name}_weather_raw\",\n",
    "        pl.read_parquet(f\"../datasets/weather_{city_name}.parquet\"),\n",
    "    ).with_columns(\n",
    "        [\n",
    "            pl.col(\"time\").dt.cast_time_unit(\n",
    "                \"us\"\n",
    "            ),  # Ensure time column has the same type\n",
    "        ]\n",
    "    )"
   ]
  },
  {
   "cell_type": "code",
   "execution_count": null,
   "id": "a9221df2",
   "metadata": {},
   "outputs": [],
   "source": [
    "all_city_weather_raw[\"brest\"]"
   ]
  },
  {
   "cell_type": "code",
   "execution_count": null,
   "id": "df127642",
   "metadata": {
    "lines_to_next_cell": 2
   },
   "outputs": [],
   "source": [
    "all_city_weather_raw[\"brest\"].drop_nulls(subset=[\"temperature_2m\"])"
   ]
  },
  {
   "cell_type": "code",
   "execution_count": null,
   "id": "d69d9ccd",
   "metadata": {},
   "outputs": [],
   "source": [
    "time.join(all_city_weather_raw[\"brest\"], on=\"time\", how=\"left\")\n",
    "\n"
   ]
  },
  {
   "cell_type": "code",
   "execution_count": null,
   "id": "8a92b9fb",
   "metadata": {
    "lines_to_next_cell": 2
   },
   "outputs": [],
   "source": [
    "all_city_weather = time\n",
    "for city_name, city_weather_raw in all_city_weather_raw.items():\n",
    "    all_city_weather = all_city_weather.join(\n",
    "        city_weather_raw.rename(lambda x: x if x == \"time\" else x + city_name),\n",
    "        on=\"time\",\n",
    "        how=\"left\",\n",
    "    )\n",
    "\n",
    "all_city_weather"
   ]
  },
  {
   "cell_type": "code",
   "execution_count": null,
   "id": "d4438dae",
   "metadata": {},
   "outputs": [],
   "source": [
    "import holidays\n",
    "\n",
    "holidays_fr = holidays.France(years=range(2019, 2026))\n",
    "\n",
    "\n",
    "fr_time = pl.col(\"time\").dt.convert_time_zone(\"Europe/Paris\")\n",
    "calendar = time.with_columns(\n",
    "    [\n",
    "        fr_time.dt.date().is_in(holidays_fr.keys()).alias(\"is_holiday_fr\"),\n",
    "        # TODO: add school holidays flags for the 3 main zones in France\n",
    "        fr_time.dt.weekday().alias(\"day_of_week_fr\"),\n",
    "        fr_time.dt.ordinal_day().alias(\"day_of_year_fr\"),\n",
    "        fr_time.dt.hour().alias(\"hour_of_day_fr\"),\n",
    "    ],\n",
    ")\n",
    "calendar"
   ]
  },
  {
   "cell_type": "code",
   "execution_count": null,
   "id": "7888fa6d",
   "metadata": {},
   "outputs": [],
   "source": []
  }
 ],
 "metadata": {
  "jupytext": {
   "cell_metadata_filter": "-all",
   "main_language": "python",
   "notebook_metadata_filter": "-all"
  }
 },
 "nbformat": 4,
 "nbformat_minor": 5
}
