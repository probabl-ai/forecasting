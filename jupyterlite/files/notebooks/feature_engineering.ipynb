{
 "cells": [
  {
   "cell_type": "markdown",
   "id": "eb635a40",
   "metadata": {
    "lines_to_next_cell": 0
   },
   "source": [
    "# Feature engineering for electricity load forecasting\n",
    "\n",
    "## Environment setup\n",
    "\n",
    "We need to install some extra dependencies for this notebook if needed (when running\n",
    "jupyterlite). We need the development version of skrub to be able to use the\n",
    "skrub expressions."
   ]
  },
  {
   "cell_type": "code",
   "execution_count": null,
   "id": "15ac4d16",
   "metadata": {
    "lines_to_next_cell": 0
   },
   "outputs": [],
   "source": [
    "%pip install -q https://pypi.anaconda.org/ogrisel/simple/polars/1.24.0/polars-1.24.0-cp39-abi3-emscripten_3_1_58_wasm32.whl\n",
    "%pip install -q holidays https://pypi.anaconda.org/ogrisel/simple/skrub/0.6.dev0/skrub-0.6.dev0-py3-none-any.whl"
   ]
  },
  {
   "cell_type": "code",
   "execution_count": null,
   "id": "6db53241",
   "metadata": {},
   "outputs": [],
   "source": [
    "# The following 3 imports are only needed to workaround some limitations\n",
    "# when using polars in a pyodide/jupyterlite notebook.\n",
    "import tzdata\n",
    "import pandas as pd\n",
    "from pyarrow.parquet import read_table\n",
    "\n",
    "import polars as pl\n",
    "import skrub\n",
    "from pathlib import Path"
   ]
  },
  {
   "cell_type": "markdown",
   "id": "451603c4",
   "metadata": {},
   "source": [
    "## Time range\n",
    "\n",
    "Let's define a hourly time range from March 23, 2021 to May 31, 2025 that\n",
    "will be used to join the electricity load data and the weather data. The time\n",
    "range is in UTC timezone to avoid any ambiguity when joining with the weather\n",
    "data that is also in UTC.\n",
    "\n",
    "We wrap the polars dataframe in a skrub variable to benefit from the\n",
    "built-in TableReport display in the notebook. Using the skrub expression\n",
    "system will also be useful later."
   ]
  },
  {
   "cell_type": "code",
   "execution_count": null,
   "id": "a375fafe",
   "metadata": {},
   "outputs": [],
   "source": [
    "time = skrub.var(\n",
    "    \"time\",\n",
    "    pl.DataFrame().with_columns(\n",
    "        pl.datetime_range(\n",
    "            pl.datetime(2021, 3, 23, hour=0),\n",
    "            pl.datetime(2025, 5, 31, hour=23),\n",
    "            time_zone=\"UTC\",\n",
    "            interval=\"1h\",\n",
    "        ).alias(\"time\"),\n",
    "    ),\n",
    ")\n",
    "time"
   ]
  },
  {
   "cell_type": "markdown",
   "id": "9248495c",
   "metadata": {},
   "source": [
    "\n",
    "To avoid network issues when running this notebook, the necessary data\n",
    "files have already been downloaded and saved in the `datasets` folder.\n",
    "See the README.md file for instructions to download the data manually\n",
    "if you want to re-run this notebook with more recent data."
   ]
  },
  {
   "cell_type": "code",
   "execution_count": null,
   "id": "e532bc00",
   "metadata": {},
   "outputs": [],
   "source": [
    "data_source_folder = Path(\"../datasets\")\n",
    "for data_file in sorted(data_source_folder.iterdir()):\n",
    "    print(data_file)"
   ]
  },
  {
   "cell_type": "markdown",
   "id": "509891a8",
   "metadata": {},
   "source": [
    "\n",
    "List of 10 medium to large urban areas to approximately cover most regions in\n",
    "France with a slight focus on most populated regions that are likely to drive\n",
    "electricity demand."
   ]
  },
  {
   "cell_type": "code",
   "execution_count": null,
   "id": "86916232",
   "metadata": {},
   "outputs": [],
   "source": [
    "city_names = [\n",
    "    \"paris\",\n",
    "    \"lyon\",\n",
    "    \"marseille\",\n",
    "    \"toulouse\",\n",
    "    \"lille\",\n",
    "    \"limoges\",\n",
    "    \"nantes\",\n",
    "    \"strasbourg\",\n",
    "    \"brest\",\n",
    "    \"bayonne\",\n",
    "]"
   ]
  },
  {
   "cell_type": "code",
   "execution_count": null,
   "id": "bf28ffcc",
   "metadata": {},
   "outputs": [],
   "source": [
    "all_city_weather_raw = {}\n",
    "for city_name in city_names:\n",
    "    all_city_weather_raw[city_name] = skrub.var(\n",
    "        f\"{city_name}_weather_raw\",\n",
    "        pl.from_arrow(read_table(f\"../datasets/weather_{city_name}.parquet\")),\n",
    "    ).with_columns(\n",
    "        [\n",
    "            pl.col(\"time\").dt.cast_time_unit(\n",
    "                \"us\"\n",
    "            ),  # Ensure time column has the same type\n",
    "        ]\n",
    "    )"
   ]
  },
  {
   "cell_type": "code",
   "execution_count": null,
   "id": "550700b8",
   "metadata": {},
   "outputs": [],
   "source": [
    "all_city_weather_raw[\"brest\"]"
   ]
  },
  {
   "cell_type": "code",
   "execution_count": null,
   "id": "65178fec",
   "metadata": {
    "lines_to_next_cell": 2
   },
   "outputs": [],
   "source": [
    "all_city_weather_raw[\"brest\"].drop_nulls(subset=[\"temperature_2m\"])"
   ]
  },
  {
   "cell_type": "code",
   "execution_count": null,
   "id": "81ece8db",
   "metadata": {
    "lines_to_next_cell": 2
   },
   "outputs": [],
   "source": [
    "time.join(all_city_weather_raw[\"brest\"], on=\"time\", how=\"inner\")"
   ]
  },
  {
   "cell_type": "code",
   "execution_count": null,
   "id": "1c8408ab",
   "metadata": {},
   "outputs": [],
   "source": [
    "all_city_weather = time\n",
    "for city_name, city_weather_raw in all_city_weather_raw.items():\n",
    "    all_city_weather = all_city_weather.join(\n",
    "        city_weather_raw.rename(lambda x: x if x == \"time\" else x + city_name),\n",
    "        on=\"time\",\n",
    "        how=\"inner\",\n",
    "    )\n",
    "\n",
    "all_city_weather"
   ]
  },
  {
   "cell_type": "markdown",
   "id": "a20c3867",
   "metadata": {
    "lines_to_next_cell": 0
   },
   "source": [
    "## Calendar and holidays features\n",
    "\n",
    "We leverage the `holidays` package to enrich the time range with some\n",
    "calendar features such as public holidays in France. We also add some\n",
    "features that are useful for time series forecasting such as the day of the\n",
    "week, the day of the year, and the hour of the day.\n",
    "\n",
    "Note that the `holidays` package requires us to extract the date for the\n",
    "French timezone.\n",
    "\n",
    "Similarly for the calendar features: all the time features are extracted from\n",
    "the time in the French timezone."
   ]
  },
  {
   "cell_type": "code",
   "execution_count": null,
   "id": "7e76e72f",
   "metadata": {},
   "outputs": [],
   "source": [
    "import holidays\n",
    "\n",
    "holidays_fr = holidays.France(years=range(2019, 2026))\n",
    "\n",
    "fr_time = pl.col(\"time\").dt.convert_time_zone(\"Europe/Paris\")\n",
    "calendar = time.with_columns(\n",
    "    [\n",
    "        fr_time.dt.date().is_in(holidays_fr.keys()).alias(\"is_holiday_fr\"),\n",
    "        fr_time.dt.weekday().alias(\"day_of_week_fr\"),\n",
    "        fr_time.dt.ordinal_day().alias(\"day_of_year_fr\"),\n",
    "        fr_time.dt.hour().alias(\"hour_of_day_fr\"),\n",
    "    ],\n",
    ")\n",
    "calendar"
   ]
  },
  {
   "cell_type": "markdown",
   "id": "08c1141e",
   "metadata": {
    "lines_to_next_cell": 0
   },
   "source": [
    "## Electricity load data\n",
    "\n",
    "Finally we load the electricity load data. This data will both be used as a\n",
    "target variable but also to craft some lagged and window-aggregated features."
   ]
  },
  {
   "cell_type": "code",
   "execution_count": null,
   "id": "ee994fd3",
   "metadata": {
    "lines_to_next_cell": 0
   },
   "outputs": [],
   "source": [
    "load_data_files = [\n",
    "    data_file\n",
    "    for data_file in sorted(data_source_folder.iterdir())\n",
    "    if data_file.name.startswith(\"Total Load - Day Ahead\")\n",
    "    and data_file.name.endswith(\".csv\")\n",
    "]"
   ]
  },
  {
   "cell_type": "code",
   "execution_count": null,
   "id": "e1333435",
   "metadata": {},
   "outputs": [],
   "source": [
    "electricity_raw = skrub.var(\n",
    "    \"electricity_raw\",\n",
    "    pl.concat(\n",
    "        [\n",
    "            pl.from_pandas(pd.read_csv(data_file, na_values=[\"N/A\", \"-\"])).drop(\n",
    "                [\"Day-ahead Total Load Forecast [MW] - BZN|FR\"]\n",
    "            )\n",
    "            for data_file in load_data_files\n",
    "        ],\n",
    "        how=\"vertical\",\n",
    "    ),\n",
    ")\n",
    "electricity_raw"
   ]
  },
  {
   "cell_type": "code",
   "execution_count": null,
   "id": "050b9fc0",
   "metadata": {},
   "outputs": [],
   "source": [
    "electricity = (\n",
    "    electricity_raw.with_columns(\n",
    "        [\n",
    "            pl.col(\"Time (UTC)\")\n",
    "            .str.split(by=\" - \")\n",
    "            .list.first()\n",
    "            .str.to_datetime(\"%d.%m.%Y %H:%M\", time_zone=\"UTC\")\n",
    "            .alias(\"time\"),\n",
    "        ]\n",
    "    )\n",
    "    .drop([\"Time (UTC)\"])\n",
    "    .rename({\"Actual Total Load [MW] - BZN|FR\": \"load_mw\"})\n",
    "    .filter(pl.col(\"time\").dt.minute().eq(0))\n",
    "    .select([\"time\", \"load_mw\"])\n",
    ")\n",
    "electricity"
   ]
  },
  {
   "cell_type": "markdown",
   "id": "140b0347",
   "metadata": {},
   "source": [
    "Check that the number of rows matches our expectations based on the number of hours that separate the first and the last dates:"
   ]
  },
  {
   "cell_type": "code",
   "execution_count": null,
   "id": "57fd5b8e",
   "metadata": {},
   "outputs": [],
   "source": [
    "time.join(electricity, on=\"time\", how=\"inner\")"
   ]
  },
  {
   "cell_type": "code",
   "execution_count": null,
   "id": "aa737ecc",
   "metadata": {},
   "outputs": [],
   "source": []
  }
 ],
 "metadata": {
  "jupytext": {
   "cell_metadata_filter": "-all",
   "main_language": "python",
   "notebook_metadata_filter": "-all"
  }
 },
 "nbformat": 4,
 "nbformat_minor": 5
}
